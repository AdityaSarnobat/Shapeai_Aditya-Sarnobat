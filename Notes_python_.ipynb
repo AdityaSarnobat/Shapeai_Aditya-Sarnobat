{
  "nbformat": 4,
  "nbformat_minor": 0,
  "metadata": {
    "colab": {
      "name": "Notes_python .ipynb",
      "provenance": [],
      "authorship_tag": "ABX9TyM5U/y9OoLTafO6IFNcwExC",
      "include_colab_link": true
    },
    "kernelspec": {
      "name": "python3",
      "display_name": "Python 3"
    },
    "language_info": {
      "name": "python"
    }
  },
  "cells": [
    {
      "cell_type": "markdown",
      "metadata": {
        "id": "view-in-github",
        "colab_type": "text"
      },
      "source": [
        "<a href=\"https://colab.research.google.com/github/AdityaSarnobat/Shapeai_Aditya-Sarnobat/blob/main/Notes_python_.ipynb\" target=\"_parent\"><img src=\"https://colab.research.google.com/assets/colab-badge.svg\" alt=\"Open In Colab\"/></a>"
      ]
    },
    {
      "cell_type": "markdown",
      "metadata": {
        "id": "c65EZZGNL5Hv"
      },
      "source": [
        "**what is Python?**\n",
        "\n",
        "Python is a popular programming language. It was created by Guido van Rossum, and released in 1991.\n",
        "\n",
        "It is used for:\n",
        "\n",
        "web development (server-side),\n",
        "\n",
        "software development,\n",
        "mathematics,\n",
        "\n",
        "system scripting."
      ]
    },
    {
      "cell_type": "markdown",
      "metadata": {
        "id": "Hctdq_eLMFjV"
      },
      "source": [
        "**What can Python do?**\n",
        "\n",
        "Python can be used on a server to create web applications.\n",
        "\n",
        "Python can be used alongside software to create workflows.\n",
        "\n",
        "Python can connect to database systems. It can also read and modify files.\n",
        "\n",
        "Python can be used to handle big data and perform complex mathematics.\n",
        "\n",
        "Python can be used for rapid prototyping, or for production-ready software development."
      ]
    },
    {
      "cell_type": "markdown",
      "metadata": {
        "id": "Fjel-CVnMWeu"
      },
      "source": [
        "**Why Python?**\n",
        "\n",
        "Python works on different platforms (Windows, Mac, Linux, Raspberry Pi, etc).\n",
        "\n",
        "Python has a simple syntax similar to the English language.\n",
        "\n",
        "Python has syntax that allows developers to write programs with fewer lines \n",
        "than some other programming languages.\n",
        "\n",
        "Python runs on an interpreter system, meaning that code can be executed as soon \n",
        "as it is written. This means that prototyping can be very quicko\n",
        "\n",
        "\n",
        "\n",
        "\n",
        "Python can be treated in a procedural way, an object-oriented way or a functional way."
      ]
    },
    {
      "cell_type": "markdown",
      "metadata": {
        "id": "9CITLTE0Mxkw"
      },
      "source": [
        "**comments can be used to explain Python code.**\n",
        "\n",
        "Comments can be used to make the code more readable.\n",
        "\n",
        "Comments can be used to prevent execution when testing code.\n",
        "\n",
        "Creating a Comment\n",
        "Comments starts with a #, and Python will ignore them:\n",
        "\n",
        "Comments can be placed at the end of a line, and Python will ignore the rest of the line:\n",
        "\n",
        "A comment does not have to be text that explains the code, it can also be used to prevent Python from executing code:\n",
        "\n",
        "Example\n",
        "\n"
      ]
    },
    {
      "cell_type": "code",
      "metadata": {
        "colab": {
          "base_uri": "https://localhost:8080/"
        },
        "id": "3tRTySdENq45",
        "outputId": "b96edac9-1938-49d3-b4a0-4250fb0813c8"
      },
      "source": [
        "#print(\"Hello, World!\")\n",
        "print(\"Cheers, Mate!\")"
      ],
      "execution_count": 3,
      "outputs": [
        {
          "output_type": "stream",
          "text": [
            "Cheers, Mate!\n"
          ],
          "name": "stdout"
        }
      ]
    },
    {
      "cell_type": "markdown",
      "metadata": {
        "id": "lQkOMxCsOXrt"
      },
      "source": [
        "**Multi Line Comments**\n",
        "\n",
        "Python does not really have a syntax for multi line comments.\n",
        "\n",
        "To add a multiline comment you could insert a # for each line:\n",
        "\n",
        "\"\"\"\n",
        "\n",
        "This is a comment\n",
        "written in\n",
        "\n",
        "more than just\n",
        " one line\n",
        "\n",
        "\"\"\"\n",
        "\n",
        "print(\"Hello, World!\")\n"
      ]
    },
    {
      "cell_type": "code",
      "metadata": {
        "colab": {
          "base_uri": "https://localhost:8080/"
        },
        "id": "miPG9iMxOxWm",
        "outputId": "c491c158-2ebe-461e-ca76-b7701caaf1fc"
      },
      "source": [
        "\"\"\"\n",
        "This is a comment\n",
        "written in\n",
        "more than just one line\n",
        "\"\"\"\n",
        "print(\"Hello, World!\")\n"
      ],
      "execution_count": 4,
      "outputs": [
        {
          "output_type": "stream",
          "text": [
            "Hello, World!\n"
          ],
          "name": "stdout"
        }
      ]
    },
    {
      "cell_type": "markdown",
      "metadata": {
        "id": "AixSHHqiPDfx"
      },
      "source": [
        "**Variables**\n",
        "\n",
        "Variables are containers for storing data values\n",
        ".\n",
        "\n",
        "Variables do not need to be declared with any particular type, and can even change type after they have been set."
      ]
    },
    {
      "cell_type": "code",
      "metadata": {
        "id": "GlFIKKpmPeZn"
      },
      "source": [
        "x = 5\n",
        "y = \"John\"\n",
        "print(x)\n",
        "print(y)"
      ],
      "execution_count": null,
      "outputs": []
    },
    {
      "cell_type": "code",
      "metadata": {
        "id": "LfbcSqf1PjXF"
      },
      "source": [
        "x = 4       # x is of type int\n",
        "x = \"Sally\" # x is now of type str\n",
        "print(x)"
      ],
      "execution_count": null,
      "outputs": []
    },
    {
      "cell_type": "markdown",
      "metadata": {
        "id": "4gDRLphgQkMG"
      },
      "source": [
        "**Casting**\n",
        "\n",
        "If you want to specify the data type of a variable, this can be done with casting."
      ]
    },
    {
      "cell_type": "code",
      "metadata": {
        "colab": {
          "base_uri": "https://localhost:8080/"
        },
        "id": "yCBClH08QptO",
        "outputId": "559b5ae9-4ce3-463a-de0b-70cebb8c1f4e"
      },
      "source": [
        "x = str(3)    # x will be '3'\n",
        "y = int(3)    # y will be 3\n",
        "z = float(3)  # z will be 3.0\n",
        "x = 5\n",
        "y = \"John\"\n",
        "print(type(x))\n",
        "print(type(y))"
      ],
      "execution_count": 7,
      "outputs": [
        {
          "output_type": "stream",
          "text": [
            "<class 'int'>\n",
            "<class 'str'>\n"
          ],
          "name": "stdout"
        }
      ]
    },
    {
      "cell_type": "markdown",
      "metadata": {
        "id": "yTVV0b67Q122"
      },
      "source": [
        "**Single or Double Quotes?**\n",
        "\n",
        "String variables can be declared either by using single or double quotes:\n",
        "\n"
      ]
    },
    {
      "cell_type": "code",
      "metadata": {
        "id": "HlQBAl54RE8v"
      },
      "source": [
        "x = \"John\"\n",
        "\n",
        "# is the same as\n",
        "bold text\n",
        "x = 'John'"
      ],
      "execution_count": null,
      "outputs": []
    },
    {
      "cell_type": "markdown",
      "metadata": {
        "id": "7ZGrACXzRPAE"
      },
      "source": [
        "**Case-Sensitive**\n",
        "\n",
        "Variable names are case-sensitive."
      ]
    },
    {
      "cell_type": "code",
      "metadata": {
        "id": "og7CoVxoRUJO"
      },
      "source": [
        "a = 4\n",
        "A = \"Sally\"\n",
        "#A will not overwrite a"
      ],
      "execution_count": null,
      "outputs": []
    },
    {
      "cell_type": "markdown",
      "metadata": {
        "id": "psLEe_FURn3g"
      },
      "source": [
        "Python - \n",
        "\n",
        "**Variable Names**\n",
        "Variable Names\n",
        "\n",
        "A variable can have a short name (like x and y) or a more descriptive name (age, carname, total_volume). Rules for Python variables:\n",
        "\n",
        "A variable name must start with a letter or the underscore character\n",
        "A variable name cannot start with a number\n",
        "\n",
        "A variable name can only contain alpha-numeric characters and underscores\n",
        " (A-z, 0-9, and _ )\n",
        "\n",
        "Variable names are case-sensitive (age, Age and AGE are three different variables)\n",
        "\n",
        "Example\n"
      ]
    },
    {
      "cell_type": "code",
      "metadata": {
        "colab": {
          "base_uri": "https://localhost:8080/"
        },
        "id": "6jB30-SiR7Jt",
        "outputId": "a68ef66d-672b-433a-d9a5-4b4b0242e83f"
      },
      "source": [
        "\n",
        "\n",
        "myvar = \"John\"\n",
        "my_var = \"John\"\n",
        "_my_var = \"John\"\n",
        "myVar = \"John\"\n",
        "MYVAR = \"John\"\n",
        "myvar2 = \"John\"\n",
        "print(myvar)\n"
      ],
      "execution_count": 14,
      "outputs": [
        {
          "output_type": "stream",
          "text": [
            "John\n"
          ],
          "name": "stdout"
        }
      ]
    },
    {
      "cell_type": "markdown",
      "metadata": {
        "id": "mLZ6uF4pSV6t"
      },
      "source": [
        "**Multi Words Variable Names**\n",
        "\n",
        "Variable names with more than one word can be difficult to read.\n",
        "\n",
        "There are several techniques you can use to make them more readable:\n",
        "\n",
        "**Camel Case** \n",
        "\n",
        "Each word, except the first, starts with a capital letter:\n",
        "\n",
        "myVariableName = \"John\"\n",
        "\n",
        "**Pascal Case**\n",
        "\n",
        "\n",
        "\n",
        "Each word starts with a capital letter:\n",
        "\n",
        "MyVariableName = \"John\"\n",
        "\n",
        "### Snake Case \n",
        "\n",
        "Each word is separated by an underscore character:\n",
        "\n",
        "my_variable_name = \"John\"\n",
        "\n",
        "#Many Values to Multiple Variables\n",
        "\n",
        "Python allows you to assign values to multiple variables in one line:"
      ]
    },
    {
      "cell_type": "code",
      "metadata": {
        "id": "9d-Z0nJaS4AO"
      },
      "source": [
        "\n",
        "\n",
        "Example\n",
        "x, y, z = \"Orange\", \"Banana\", \"Cherry\"\n",
        "print(x)\n",
        "print(y)\n",
        "print(z)"
      ],
      "execution_count": null,
      "outputs": []
    },
    {
      "cell_type": "markdown",
      "metadata": {
        "id": "L3fqK0a8S9c3"
      },
      "source": [
        "**One Value to Multiple Variables**\n",
        "\n",
        "And you can assign the same value to multiple variables in one line:"
      ]
    },
    {
      "cell_type": "code",
      "metadata": {
        "id": "CtOq8HV8TpOD"
      },
      "source": [
        "x = y = z = \"Orange\"\n",
        "print(x)\n",
        "print(y)\n",
        "print(z)"
      ],
      "execution_count": null,
      "outputs": []
    },
    {
      "cell_type": "markdown",
      "metadata": {
        "id": "l0z0ApCuTruX"
      },
      "source": [
        "**Unpack a Collection**\n",
        "\n",
        "If you have a collection of values in a list, tuple etc. Python allows you extract the values into variables. This is called unpacking."
      ]
    },
    {
      "cell_type": "code",
      "metadata": {
        "id": "1JsPU1k3Tyc5"
      },
      "source": [
        "fruits = [\"apple\", \"banana\", \"cherry\"]\n",
        "x, y, z = fruits\n",
        "print(x)\n",
        "print(y)\n",
        "print(z)"
      ],
      "execution_count": null,
      "outputs": []
    },
    {
      "cell_type": "markdown",
      "metadata": {
        "id": "vOB6KX9nT4rn"
      },
      "source": [
        "\n",
        "**Output Variables**\n",
        "\n",
        "The Python print statement is often used to output variables.\n",
        "\n",
        "To combine both text and a variable, Python uses the + character:"
      ]
    },
    {
      "cell_type": "code",
      "metadata": {
        "colab": {
          "base_uri": "https://localhost:8080/"
        },
        "id": "V1EZpDx8UBGW",
        "outputId": "3608b99c-1d73-4755-a828-9ea3e9ae245e"
      },
      "source": [
        "x = \"awesome\"\n",
        "print(\"Python is \" + x)\n",
        "x = \"Python is \"\n",
        "y = \"awesome\"\n",
        "z =  x + y\n",
        "print(z)\n",
        "#For numbers, the + character works as a mathematical operator:\n",
        "x = 5\n",
        "y = 10\n",
        "print(x + y)"
      ],
      "execution_count": 15,
      "outputs": [
        {
          "output_type": "stream",
          "text": [
            "Python is awesome\n",
            "Python is awesome\n"
          ],
          "name": "stdout"
        }
      ]
    },
    {
      "cell_type": "markdown",
      "metadata": {
        "id": "A_DaZqKyUmFu"
      },
      "source": [
        "# **Python - Global Variables**\n",
        "Global Variables\n",
        "\n",
        "Variables that are created outside of a function (as in all of the examples above) are known as global variables.\n",
        "\n",
        "Global variables can be used by everyone, both inside of functions and outside.\n"
      ]
    },
    {
      "cell_type": "code",
      "metadata": {
        "colab": {
          "base_uri": "https://localhost:8080/"
        },
        "id": "Yqw5ukt-UwOU",
        "outputId": "a3fc203f-9820-4730-fa77-01d8d3b1ece6"
      },
      "source": [
        "x = \"awesome\"\n",
        "\n",
        "def myfunc():\n",
        "  print(\"Python is \" + x)\n",
        "\n",
        "myfunc()"
      ],
      "execution_count": 16,
      "outputs": [
        {
          "output_type": "stream",
          "text": [
            "Python is awesome\n"
          ],
          "name": "stdout"
        }
      ]
    },
    {
      "cell_type": "markdown",
      "metadata": {
        "id": "hwpWonOsU0xM"
      },
      "source": [
        "**The global Keyword**\n",
        "\n",
        "Normally, when you create a variable inside a function, that variable is local, and can only be used inside that function.\n",
        "\n",
        "To create a global variable inside a function, you can use the global keyword."
      ]
    },
    {
      "cell_type": "code",
      "metadata": {
        "colab": {
          "base_uri": "https://localhost:8080/"
        },
        "id": "Erf3jZhbVBuh",
        "outputId": "c05df5c5-5e87-490a-a1c1-4c3c70da074d"
      },
      "source": [
        "\"\"\"example\n",
        "If you use the global keyword, the variable belongs to the global scope:\"\"\"\n",
        "\n",
        "def myfunc():\n",
        "  global x\n",
        "  x = \"fantastic\"\n",
        "\n",
        "myfunc()\n",
        "\n",
        "print(\"Python is \" + x)"
      ],
      "execution_count": 18,
      "outputs": [
        {
          "output_type": "stream",
          "text": [
            "Python is fantastic\n"
          ],
          "name": "stdout"
        }
      ]
    },
    {
      "cell_type": "markdown",
      "metadata": {
        "id": "Ni8VeKJAVWoP"
      },
      "source": [
        "Also, use the global keyword if you want to change a global variable inside a function.\n",
        "\n",
        "\n",
        "Example\n",
        "\n",
        "To change the value of a global variable inside a function, refer to the variable by using the global keyword:\n",
        "\n"
      ]
    },
    {
      "cell_type": "code",
      "metadata": {
        "id": "NznYOZbsVfYu"
      },
      "source": [
        "x = \"awesome\"\n",
        "\n",
        "def myfunc():\n",
        "  global x\n",
        "  x = \"fantastic\"\n",
        "\n",
        "myfunc()\n",
        "\n",
        "print(\"Python is \" + x)"
      ],
      "execution_count": null,
      "outputs": []
    },
    {
      "cell_type": "markdown",
      "metadata": {
        "id": "wUDSWMDaVzLA"
      },
      "source": [
        "Python Data Types\n",
        "\n",
        "Built-in Data Types \n",
        "\n",
        "In programming, data type is an important concept.\n",
        "\n",
        "\n",
        "Variables can store data of different types, and different types can do different things.\n",
        "\n",
        "Python has the following data types built-in by default, in these categories:\n",
        "\n",
        "Text Type:\tstr\n",
        "\n",
        "Numeric Types:\tint, float, complex\n",
        "\n",
        "Sequence Types:\tlist, tuple, range\n",
        "\n",
        "Mapping Type:\tdict\n",
        "\n",
        "Set Types:\tset, frozenset\n",
        "\n",
        "Boolean Type:\tbool\n",
        "\n",
        "Binary Types:\tbytes, bytearray, memoryview\n",
        "\n",
        "Getting the Data Type\n",
        "You can get the data type of any object by using the type() function:"
      ]
    },
    {
      "cell_type": "markdown",
      "metadata": {
        "id": "lTnrKJywXu3k"
      },
      "source": [
        "Example                           Data Type\n",
        " \n",
        "x = \"Hello World\"\t                                            str\t\n",
        "\n",
        "x = 20\t                                                          int\t\n",
        "   \n",
        "x = 20.5\t                                                        float\t\n",
        "    \n",
        "x = 1j\t                                                      complex\t\n",
        "\n",
        "x = [\"apple\", \"banana\", \"cherry\"]\t                                 list\t\n",
        "\n",
        "x = (\"apple\", \"banana\", \"cherry\")\t                      tuple\t\n",
        "   \n",
        "x = range(6)\t                                                  range\t\n",
        "\n",
        "x = {\"name\" : \"John\", \"age\" : 36}\t                                      dict\t\n",
        "\n",
        "x = {\"apple\", \"banana\", \"cherry\"}\t                            set\t\n",
        "\n",
        "x = frozenset({\"apple\", \"banana\", \"cherry\"})     \t            frozenset\t\n",
        "  \n",
        "x = True                                                        \tbool\t\n",
        "    \n",
        "x = b\"Hello\"\t                                                   bytes\t\n",
        "\n",
        "x = bytearray(5)\t                                               bytearray\t\n",
        " \n",
        "x = memoryview(bytes(5))                                     \tmemoryview"
      ]
    }
  ]
}